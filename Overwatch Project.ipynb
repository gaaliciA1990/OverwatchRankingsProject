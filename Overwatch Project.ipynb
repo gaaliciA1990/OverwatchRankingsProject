{
 "cells": [
  {
   "cell_type": "code",
   "execution_count": null,
   "metadata": {},
   "outputs": [],
   "source": [
    "import pandas as pd\n",
    "import numpy as np\n",
    "from sklearn.model_selection import train_test_split\n",
    "from sklearn.linear_model import LogisticRegression\n",
    "from sklearn import metrics\n",
    "\n",
    "# Create path for csv file\n",
    "url = 'C:\\Users\\Chupi\\Documents\\GADataScience\\Project_Data\\owdata_dummy.csv'\n",
    "#creating dataframe for the dummy data\n",
    "OW = pd.read_csv(url)\n",
    "OW.head()"
   ]
  },
  {
   "cell_type": "code",
   "execution_count": null,
   "metadata": {},
   "outputs": [],
   "source": [
    "# Remove whitespace from column heads\n",
    "col_head = OW.columns\n",
    "col_head = col_head.str.strip()\n",
    "col_head\n",
    "# Rename the column heads in the df as the new headers list\n",
    "OW.columns = col_head\n",
    "print list(OW)"
   ]
  },
  {
   "cell_type": "code",
   "execution_count": null,
   "metadata": {},
   "outputs": [],
   "source": [
    "#Creating a list of the columns, but dropping the skillrating.\n",
    "col_list= list(OW)\n",
    "col_list.remove('player_id')\n",
    "print col_list"
   ]
  },
  {
   "cell_type": "code",
   "execution_count": null,
   "metadata": {},
   "outputs": [],
   "source": [
    "#List of columns with player_id dropped\n",
    "col_list.remove('skillrating')\n",
    "print col_list"
   ]
  },
  {
   "cell_type": "code",
   "execution_count": null,
   "metadata": {},
   "outputs": [],
   "source": [
    "#Adding a new column totalGames that is the sum of the character columns\n",
    "OW['totalGames'] = OW[col_list].sum(axis = 1)\n",
    "OW.head()"
   ]
  },
  {
   "cell_type": "code",
   "execution_count": null,
   "metadata": {
    "collapsed": true
   },
   "outputs": [],
   "source": [
    "OW_new = pd.DataFrame()"
   ]
  },
  {
   "cell_type": "code",
   "execution_count": null,
   "metadata": {},
   "outputs": [],
   "source": [
    "#extracting the character name by splitting the column name by '_' to yield the first element\n",
    "for name in col_list:\n",
    "    char_name = name.split('_')[0]\n",
    "    column = OW[name]\n",
    "    print (name)\n",
    "#Check if this column exists in the dataframe. IF it does not, then add it.\n",
    "    if not char_name in OW_new.columns:\n",
    "        print ('Creating column ' + char_name)\n",
    "        OW_new[char_name] = column\n",
    "    #IF it already exist, sum it.\n",
    "    else:\n",
    "        print ('Sum to existing column' + char_name)\n",
    "        prev_col = OW_new[char_name]\n",
    "        OW_new[char_name] = column + prev_col\n",
    "OW_new.head()"
   ]
  },
  {
   "cell_type": "code",
   "execution_count": null,
   "metadata": {
    "collapsed": true
   },
   "outputs": [],
   "source": []
  }
 ],
 "metadata": {
  "kernelspec": {
   "display_name": "Python 2",
   "language": "python",
   "name": "python2"
  },
  "language_info": {
   "codemirror_mode": {
    "name": "ipython",
    "version": 2
   },
   "file_extension": ".py",
   "mimetype": "text/x-python",
   "name": "python",
   "nbconvert_exporter": "python",
   "pygments_lexer": "ipython2",
   "version": "2.7.14"
  }
 },
 "nbformat": 4,
 "nbformat_minor": 2
}
