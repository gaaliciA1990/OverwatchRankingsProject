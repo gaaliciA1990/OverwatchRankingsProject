{
 "cells": [
  {
   "cell_type": "markdown",
   "metadata": {},
   "source": [
    "# Overwatch: Predicting Competitive Rank"
   ]
  },
  {
   "cell_type": "markdown",
   "metadata": {},
   "source": [
    "## Background\n",
    "\n",
    "Overwatch Origins Edition was released on May of 2016 for Windows, PS4 and Xbox One, by Blizzard Entertainment. Blizzard is known for their Massive Multiplayer Online (MMO) and stragety based games, like World of Warcraft, Heroes of the Storm, and StraCraft. Overwatch features a team based first-person shooter with 26 characters split between four group classifications; Offense, Defense, Tanks, and Support. The structure of the game is based on team work to capture objectives and\n",
    "transport cargo objectives, or hold capture points. The games design has a variety of modes to choose from, depending on the players preferred gaming style; Arcade mode, which presents challenges for a player to play solo or as a team, Quickplay mode, where players are queued with other players in non-ranked matches for the maps objectives, and Competitive mode, where players are queued with other players based on skill rating for map objectives and is only available during seasons.\n",
    "\n",
    "Since it's release, the game has grown in popularity, with the most recent player count at 35 million in October of 2017, according to statista.com (2017) and pcgamesn.com (2017). Overwatch has entered into the esports community with the launch of Overwatch League (overwatchleague.com/en-us/) in 2018, showcasing the top competitive players in the Overwatch community. The competitive players are determined through the games Skill Rating system in Competitive matches, ranging from 1 to 4000+ (overwatch.gamepedia.com/Competitive_Play), with Bronze being the lowest and Grand Master being the highest (outside of the top 500 for the region).\n",
    "\n",
    "With the demomstrated interest from the gaming community on Overwatch League, at 10 million viewers in the League's first week (dotesports.com/overwatch/news/overwatch-league-10-million-viewers-20274), Competitive Overwatch is a popular game mode. As a regular gamer, and an Overwatch fan, I regularly participate in Competitive matches, and I am working to rise in the ranks with each passing season. During my time playing Overwatch Competitive, I have tried to maintain a balance in the number of characters I play well, with the hope this will help me raise my Skill Rating. The Skill Rating system has been a topic in numerous gaming threads on reddit and Overwatch forums, as the community tries to determine the best way to rise in the ranks. My goal is to determine what is the best way to increase a player's skill rating, thus their Competitive Rank, by analyzing player's Overwatch console data."
   ]
  },
  {
   "cell_type": "markdown",
   "metadata": {},
   "source": [
    "---\n",
    "## Problem Statement\n",
    "\n",
    "**Does having the flexibility to play 2-3 characters increase your chances of a higher Skill Rating (SR), or should a player focus on 1 character and master them for a higher SR? Can I predict a player's SR from the number of characters they have played, by analyzing the total number of games played and the total wins/loss/ties for each character, from a span of three seasons? **\n",
    "\n",
    "---\n",
    "### Hypothesis\n",
    "\n",
    "I believe that having the flexibilty to play 2-3 characters, well, provides a player the ability to adapt to a competitive match's team composition by filling in the needed group classification for that match. By creating a balanced team, the chances of winning the match increases, thus providing the player with a higher SR through out their competitive season.\n",
    "\n",
    "By analyzing a player's game data, I will be able to predict their future seasons SR based on the number of characters they've played and the total games played with each character over a season. \n"
   ]
  },
  {
   "cell_type": "markdown",
   "metadata": {},
   "source": [
    "---\n",
    "## Data\n",
    "The data for this project was obtained by contacting Blizzard Entertainment through Omnicmeta.com. The data was provided for Season 5, 6, and 7 for about 100k players on combined Xbox/PS4 console. The data columns contain the player id (numerically randomized), SR, and wins/losses/ties for each hero (26 x 3).\n",
    "\n",
    "The data is classified as confidential by the Blizzard and therefore can not be made public. Using a python script, I have created a dummy data set, with similar data to use as a representation of the data prepping work I will be performing on the data obtained from Omnicmeta. The final results will reflect the data from Omnicmeta.\n",
    "\n",
    "---\n",
    "### Data Import"
   ]
  },
  {
   "cell_type": "code",
   "execution_count": null,
   "metadata": {},
   "outputs": [],
   "source": [
    "import pandas as pd\n",
    "import numpy as np\n",
    "from sklearn.model_selection import train_test_split\n",
    "from sklearn.linear_model import LogisticRegression\n",
    "from sklearn import metrics\n",
    "%matplotlib inline\n",
    "import seaborn as sns\n",
    "sns.set(font_scale=1.5)\n",
    "import matplotlib.pyplot as plt\n",
    "\n",
    "#Defining constants\n",
    "TG = 'totGames'\n",
    "SR = 'skillrating'\n",
    "PLAYER = 'player'\n",
    "TC = 'Main_Char'\n",
    "OFF = 'Offense'\n",
    "DEF = 'Defense'\n",
    "TAN = 'Tank'\n",
    "SUP = 'Support'\n",
    "\n",
    "# Create path for csv file\n",
    "url = 'C:\\Users\\Chupi\\Documents\\GADataScience\\Project_Work\\OverwatchRankingsProject\\owdata_dummy.csv'\n",
    "#creating dataframe for the dummy data\n",
    "OW = pd.read_csv(url, skipinitialspace = True)\n",
    "OW.head()\n",
    "\n"
   ]
  },
  {
   "cell_type": "markdown",
   "metadata": {},
   "source": [
    "---\n",
    "### Processing the data\n",
    "Because the data is so large, we need to reduce the amount of information we have by creating new columns for the total number of games played in the season, total number of games played by each character divided by the total number of games played, and then, the total characters played for each season. The ultimate goal is to have a dataframe with 5 columns as follows:\n",
    "\n",
    "* Player\n",
    "* SR\n",
    "* Rank status\n",
    "* Total Games Played\n",
    "* Total Characters played\n",
    "\n",
    "This will require several steps. First we want to find the total number of games played by each player. This was acheived by creating a list of columns from the df, with each character name. This column was then added to the end of the dataframe\n",
    "\n",
    "---"
   ]
  },
  {
   "cell_type": "code",
   "execution_count": null,
   "metadata": {},
   "outputs": [],
   "source": [
    "# Adding a new column totalGames that is the sum of the character columns \n",
    "col_list = list(OW.columns.values)\n",
    "\n",
    "col_new = col_list[2:79]\n",
    "OW[TG] = OW[col_new].sum(axis = 1)\n",
    "\n",
    "OW.head()"
   ]
  },
  {
   "cell_type": "markdown",
   "metadata": {},
   "source": [
    "---\n",
    "\n",
    "Here, we create a new empty dataframe that woud allow us to input the sum of each character, and create a new column using the existing column name, minus anything after the '_'.\n",
    "\n",
    "---"
   ]
  },
  {
   "cell_type": "code",
   "execution_count": null,
   "metadata": {},
   "outputs": [],
   "source": [
    "#Create a blank df\n",
    "OW_new = pd.DataFrame()\n",
    "\n",
    "#redefine col_list\n",
    "col_list = list(OW.columns.values)\n",
    "#extracting the character name by splitting the column name by '_' to yield the first element\n",
    "for name in col_list:\n",
    "    char_name = name.split('_')[0]\n",
    "    column = OW[name]\n",
    "#Check if this column exists in the dataframe. If it does not, then add it.\n",
    "    if not char_name in OW_new.columns:\n",
    "        OW_new[char_name] = column\n",
    "    #IF it already exist, sum it.\n",
    "    else:\n",
    "        prev_col = OW_new[char_name]\n",
    "        OW_new[char_name] = column + prev_col\n",
    "OW_new.head()"
   ]
  },
  {
   "cell_type": "markdown",
   "metadata": {},
   "source": [
    "To add more data to predict with, we will breaking down the total charachaters played into their respective classification categories (https://overwatch.gamepedia.com/Heroes) as follows:\n",
    "\n",
    "Offense:\n",
    "* Doomfist\t\n",
    "* Genji\n",
    "* McCree\n",
    "* Pharah\n",
    "* Reaper\n",
    "* Soldier: 76\n",
    "* Sombra\n",
    "* Tracer\n",
    "\n",
    "Defense:\n",
    "* Bastion\n",
    "* Hanzo\n",
    "* Junkrat\n",
    "* Mei\n",
    "* Torbjörn\n",
    "* Widowmaker\n",
    "\n",
    "Tank:\n",
    "* D.Va\n",
    "* Orisa\n",
    "* Reinhardt\n",
    "* Roadhog\n",
    "* Winston\n",
    "* Zarya\n",
    "\n",
    "Support:\n",
    "* Ana\n",
    "* Lúcio\n",
    "* Mercy\n",
    "* Moira\n",
    "* Symmetra\n",
    "* Zenyatta"
   ]
  },
  {
   "cell_type": "code",
   "execution_count": null,
   "metadata": {},
   "outputs": [],
   "source": [
    "#redefine col_list to OW_ratio df\n",
    "col_list = ['player', 'skillrating', 'totGames','Doomfist', 'Genji', 'McCree', 'Pharah', 'Reaper', 'Soldier76', \n",
    "            'Sombra', 'Tracer', 'Bastion', 'Hanzo', 'Junkrat', 'Mei', 'Torbjorn', 'Widowmaker', \n",
    "            'D.Va',  'Orisa', 'Reinhardt', 'Roadhog', 'Winston', 'Zarya', 'Ana', 'Lucio', 'Mercy', 'Symmetra',\n",
    "             'Zenyatta','Moira']\n",
    "OW_new = OW_new[col_list]\n",
    "OW_new.head()\n",
    "# grouping the characters into their classification category\n",
    "Offense = col_list[3:11]\n",
    "Defense = col_list[11:17] \n",
    "Tank = col_list[17:23]\n",
    "Support = col_list[23:29]\n",
    "\n",
    "#Create a blank df\n",
    "OW_new2 = pd.DataFrame()\n",
    "\n",
    "# creating an empty list for the results to populate later\n",
    "Off = []\n",
    "Def = []\n",
    "Tan = []\n",
    "Sup = []\n",
    "\n",
    "\n",
    "# Count the total number of character in each category class\n",
    "for index, row in OW_new.iterrows():\n",
    "    counter1 = 0\n",
    "    counter2 = 0\n",
    "    counter3 = 0\n",
    "    counter4  = 0\n",
    "    index = 3\n",
    "    for cell in row[3:30]:\n",
    "        col_name = col_list[index]\n",
    "        index = index + 1\n",
    "        if cell == 0:\n",
    "            continue\n",
    "        if col_name in Offense:\n",
    "            counter1 = counter1 + 1\n",
    "        elif col_name in Defense:\n",
    "            counter2 = counter2 + 1\n",
    "        elif col_name in Tank:\n",
    "            counter3 = counter3 + 1\n",
    "        elif col_name in Support:\n",
    "            counter4 = counter4 + 1\n",
    "        \n",
    "    # filling in the empty list with the results of counter\n",
    "    Off.append(counter1)\n",
    "    Def.append(counter2)\n",
    "    Tan.append(counter3)\n",
    "    Sup.append(counter4)\n",
    "#Add the columns from OW_new df to new df\n",
    "OW_new2 = OW_new[col_list]\n",
    "\n",
    "# Adding in the new columns to the df\n",
    "OW_new2[OFF] = Off\n",
    "OW_new2[DEF] = Def\n",
    "OW_new2[TAN] = Tan\n",
    "OW_new2[SUP] = Sup\n",
    "\n",
    "\n",
    "OW_new2.head()"
   ]
  },
  {
   "cell_type": "markdown",
   "metadata": {},
   "source": [
    "---\n",
    "Now we will take the character column and divide by the total number of games played to create a new column of the percentage played of each character for the season (character ratio). After this, we will want to determine the most played characters, based on the the character ratio. \n",
    "\n",
    "---"
   ]
  },
  {
   "cell_type": "code",
   "execution_count": null,
   "metadata": {},
   "outputs": [],
   "source": [
    "#Create a blank df\n",
    "OW_ratio = pd.DataFrame()\n",
    "\n",
    "#redefine col_list\n",
    "col_list = list(OW_new.columns.values)\n",
    "\n",
    "#Add the columns player, SR and totalGames to the OW_ratio df\n",
    "OW_ratio[PLAYER] = OW_new[PLAYER]\n",
    "OW_ratio[SR] = OW_new[SR]\n",
    "OW_ratio[TG] = OW_new[TG]\n",
    "OW_ratio[OFF] = OW_new2[OFF]\n",
    "OW_ratio[DEF] = OW_new2[DEF]\n",
    "OW_ratio[TAN] = OW_new2[TAN]\n",
    "OW_ratio[SUP] = OW_new2[SUP]\n",
    "\n",
    "#Finding the charater play time ratio (total character games divided by total games) starting at index 2\n",
    "for name in col_list[3:29]:\n",
    "    char_total = OW_new[name]\n",
    "    total_games = OW_new[TG]\n",
    "    OW_ratio[name] = char_total.div(total_games, axis = 0)\n",
    "    \n",
    "OW_ratio.head()"
   ]
  },
  {
   "cell_type": "markdown",
   "metadata": {},
   "source": [
    "---\n",
    "\n",
    "Next will be to count the total number of characters, whose sum will equal 80% of the total games played. To ensure I am including characters with higher game time played, I am setting a parameter that will exclude characters from the summatin whose values are less than or equal to 5%.\n",
    "\n",
    "---"
   ]
  },
  {
   "cell_type": "code",
   "execution_count": null,
   "metadata": {},
   "outputs": [],
   "source": [
    "# Create a new empty df\n",
    "OW = pd.DataFrame()\n",
    "\n",
    "# Pulling columns to new df\n",
    "OW[PLAYER] = OW_ratio[PLAYER]\n",
    "OW[SR] = OW_ratio[SR]\n",
    "OW[TG] = OW_ratio[TG]\n",
    "OW[OFF] = OW_ratio[OFF]\n",
    "OW[DEF] = OW_ratio[DEF]\n",
    "OW[TAN] = OW_ratio[TAN]\n",
    "OW[SUP] = OW_ratio[SUP]\n",
    "\n",
    "# Count the number of columns, whose sum is at least 80%, but does not include values under 5%.\n",
    "min_value = 0.05\n",
    "max_tot = 0.80\n",
    "#creating an empty list for the results to populate later\n",
    "col_counter = []\n",
    "for index, row in OW_ratio.iterrows():\n",
    "    counter = 0\n",
    "    sum = 0\n",
    "    for cell in row[7:33]:\n",
    "        if cell > min_value:\n",
    "            counter = counter + 1\n",
    "            sum = sum + cell\n",
    "            if sum >= max_tot:\n",
    "                break;\n",
    "    # filling in the empty list with the results of counter\n",
    "    col_counter.append(counter)\n",
    "# creating a new column that is set to the total count\n",
    "OW[TC] = col_counter\n",
    "\n",
    "OW.head()      \n"
   ]
  },
  {
   "cell_type": "markdown",
   "metadata": {
    "collapsed": true
   },
   "source": [
    "---\n",
    "In order to create the Logistic Model, I will be creating a new column that categorizes the SR column into their corresponding Rank per https://overwatch.gamepedia.com/Competitive_Play (20 January 2018).\n",
    "\n",
    "* Bronze - 1-1499 SR\n",
    "\n",
    "* Silver - 1500-1999 SR\n",
    "\n",
    "* Gold - 2000-2499 SR\n",
    "\n",
    "* Platinum - 2500-2999 SR\n",
    "\n",
    "* Diamond - 3000-3499 SR\n",
    "\n",
    "* Master - 3500-3999 SR\n",
    "\n",
    "* Grandmaster - 4000+\n",
    "\n",
    "\n",
    "---"
   ]
  },
  {
   "cell_type": "code",
   "execution_count": null,
   "metadata": {},
   "outputs": [],
   "source": [
    "# Adding a new column for categorizing the SR into a string Rank. First create an empty list for the results of the for loop\n",
    "\n",
    "col_rank = []\n",
    "for value in OW[SR]:\n",
    "    if value <= 1499:\n",
    "        rank = 'Bronze'\n",
    "    elif value <= 1999:\n",
    "        rank = 'Silver'\n",
    "    elif value <= 2499:\n",
    "        rank = 'Gold'\n",
    "    elif value <= 2999:\n",
    "        rank = 'Platinum'\n",
    "    elif value <= 3499:\n",
    "        rank = 'Diamond'\n",
    "    elif value <=3999:\n",
    "        rank = 'Master'\n",
    "    elif value > 4000:\n",
    "        rank = 'Grandmaster'\n",
    "    # filling in the empty list with the results of rank\n",
    "    col_rank.append(rank)\n",
    "# adding rank column to the df\n",
    "OW['rank'] = col_rank\n",
    "\n",
    "OW.head()"
   ]
  },
  {
   "cell_type": "code",
   "execution_count": null,
   "metadata": {},
   "outputs": [],
   "source": [
    "feature_col = [SR, TC, TG, OFF, DEF, TAN, SUP]\n",
    "OW[feature_col].describe()"
   ]
  },
  {
   "cell_type": "code",
   "execution_count": null,
   "metadata": {},
   "outputs": [],
   "source": [
    "# setting up Logistic Regression Model\n",
    "logreg = LogisticRegression()\n",
    "\n",
    "# Creating an X feature and a y-response\n",
    "X = OW[feature_col]\n",
    "y = OW.skillrating\n",
    "\n",
    "# fitting the model\n",
    "logreg.fit(X, y)\n",
    "OW['rank_pred'] = logreg.predict(X)"
   ]
  },
  {
   "cell_type": "code",
   "execution_count": null,
   "metadata": {},
   "outputs": [],
   "source": [
    "#import standard scaler\n",
    "from sklearn.preprocessing import StandardScaler\n",
    "scaler = StandardScaler()\n",
    "\n",
    "scaler.fit(X)\n",
    "X_scaled = scaler.transform(X)\n",
    "\n",
    "print X_scaled[:, 0].mean()\n",
    "print X_scaled[:, 0].std()\n",
    "print X_scaled[:, 1].mean()\n",
    "print X_scaled[:, 1].std()"
   ]
  },
  {
   "cell_type": "code",
   "execution_count": null,
   "metadata": {},
   "outputs": [],
   "source": [
    "# split into training and testing sets\n",
    "from sklearn.model_selection import train_test_split\n",
    "X_train, X_test, y_train, y_test = train_test_split(X, y, random_state=1)\n",
    "\n",
    "# standardize X_train\n",
    "scaler.fit(X_train)\n",
    "X_trained_scaled = scaler.transform(X_train)"
   ]
  },
  {
   "cell_type": "code",
   "execution_count": null,
   "metadata": {},
   "outputs": [],
   "source": [
    "# check that it standardized correctly\n",
    "print X_trained_scaled[:, 0].mean()\n",
    "print X_trained_scaled[:, 0].std()\n",
    "print X_trained_scaled[:, 1].mean()\n",
    "print X_trained_scaled[:, 1].std()"
   ]
  },
  {
   "cell_type": "code",
   "execution_count": null,
   "metadata": {},
   "outputs": [],
   "source": [
    "# standardize X_test\n",
    "X_test_scaled = scaler.transform(X_test)\n",
    "\n",
    "#Check that it worked\n",
    "print X_test_scaled[:, 0].mean()\n",
    "print X_test_scaled[:, 0].std()\n",
    "print X_test_scaled[:, 1].mean()\n",
    "print X_test_scaled[:, 1].std()"
   ]
  },
  {
   "cell_type": "code",
   "execution_count": null,
   "metadata": {},
   "outputs": [],
   "source": [
    "#checking for accuracy on train_test_split data\n",
    "\n",
    "from sklearn.neighbors import KNeighborsClassifier\n",
    "knn = KNeighborsClassifier(n_neighbors = 5)\n",
    "\n",
    "knn.fit(X_trained_scaled, y_train)\n",
    "y_pred_class = knn.predict(X_test_scaled)\n",
    "\n",
    "from sklearn import metrics\n",
    "print metrics.accuracy_score(y_test, y_pred_class)"
   ]
  },
  {
   "cell_type": "code",
   "execution_count": null,
   "metadata": {},
   "outputs": [],
   "source": [
    "#checking for accuracy on my data\n",
    "knn = KNeighborsClassifier(n_neighbors = 5)\n",
    "from sklearn.model_selection import cross_val_score\n",
    "\n",
    "cross_val_score(knn, X, y, cv=5, scoring='accuracy').mean()"
   ]
  },
  {
   "cell_type": "code",
   "execution_count": null,
   "metadata": {},
   "outputs": [],
   "source": [
    "cross_val_score(knn, X_scaled, y, cv = 5, scoring='accuracy').mean()\n",
    "\n"
   ]
  },
  {
   "cell_type": "code",
   "execution_count": null,
   "metadata": {},
   "outputs": [],
   "source": [
    "# fitting the model with X_scaled\n",
    "\n",
    "logreg.fit(X, y)\n",
    "OW['rank_pred'] = logreg.predict(X)\n",
    "OW.head()"
   ]
  },
  {
   "cell_type": "code",
   "execution_count": null,
   "metadata": {
    "collapsed": true
   },
   "outputs": [],
   "source": []
  },
  {
   "cell_type": "code",
   "execution_count": null,
   "metadata": {
    "collapsed": true
   },
   "outputs": [],
   "source": [
    "# store the predicted probabilites of class 1\n",
    "OW['rank_predict_prob'] = logreg.predict_proba(X)[:, 1]\n",
    "OW.head()"
   ]
  },
  {
   "cell_type": "code",
   "execution_count": null,
   "metadata": {
    "collapsed": true
   },
   "outputs": [],
   "source": []
  },
  {
   "cell_type": "markdown",
   "metadata": {},
   "source": [
    "---\n",
    "### Cited Sources: \n",
    "Overwatch player statistics: https://www.pcgamesn.com/overwatch/overwatch-sales-numbers, https://www.statista.com/statistics/618035/number-gamers-overwatch-worldwide/\n",
    "Ovewatch character data: https://overwatch.gamepedia.com/Heroes"
   ]
  },
  {
   "cell_type": "code",
   "execution_count": null,
   "metadata": {
    "collapsed": true
   },
   "outputs": [],
   "source": []
  }
 ],
 "metadata": {
  "kernelspec": {
   "display_name": "Python 2",
   "language": "python",
   "name": "python2"
  },
  "language_info": {
   "codemirror_mode": {
    "name": "ipython",
    "version": 2
   },
   "file_extension": ".py",
   "mimetype": "text/x-python",
   "name": "python",
   "nbconvert_exporter": "python",
   "pygments_lexer": "ipython2",
   "version": "2.7.14"
  }
 },
 "nbformat": 4,
 "nbformat_minor": 2
}
